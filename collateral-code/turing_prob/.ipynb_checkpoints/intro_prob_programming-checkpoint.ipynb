{
 "cells": [
  {
   "cell_type": "markdown",
   "metadata": {},
   "source": [
    "### Coin flipping without Turing"
   ]
  },
  {
   "cell_type": "code",
   "execution_count": 36,
   "metadata": {},
   "outputs": [],
   "source": [
    "using Random \n",
    "using Plots\n",
    "using Distributions\n",
    "using StatPlots"
   ]
  },
  {
   "cell_type": "code",
   "execution_count": 37,
   "metadata": {},
   "outputs": [
    {
     "data": {
      "text/plain": [
       "0:300"
      ]
     },
     "execution_count": 37,
     "metadata": {},
     "output_type": "execute_result"
    }
   ],
   "source": [
    "p_true = 0.5\n",
    "Ns = 0:300 # remember the range is done with \":\""
   ]
  },
  {
   "cell_type": "code",
   "execution_count": 38,
   "metadata": {},
   "outputs": [
    {
     "data": {
      "text/plain": [
       "300-element Array{Int64,1}:\n",
       " 1\n",
       " 0\n",
       " 1\n",
       " 1\n",
       " 0\n",
       " 0\n",
       " 0\n",
       " 0\n",
       " 1\n",
       " 1\n",
       " 0\n",
       " 1\n",
       " 1\n",
       " ⋮\n",
       " 0\n",
       " 1\n",
       " 0\n",
       " 0\n",
       " 1\n",
       " 0\n",
       " 1\n",
       " 0\n",
       " 0\n",
       " 1\n",
       " 0\n",
       " 1"
      ]
     },
     "execution_count": 38,
     "metadata": {},
     "output_type": "execute_result"
    }
   ],
   "source": [
    "# Draw data from a Bernoulli distribution, i.e. draw heads or tails.\n",
    "\n",
    "Random.seed!(12)\n",
    "\n",
    "data = rand(Bernoulli(p_true), last(Ns))"
   ]
  },
  {
   "cell_type": "code",
   "execution_count": 39,
   "metadata": {},
   "outputs": [
    {
     "data": {
      "text/plain": [
       "Beta{Float64}(α=1.0, β=1.0)"
      ]
     },
     "execution_count": 39,
     "metadata": {},
     "output_type": "execute_result"
    }
   ],
   "source": [
    "prior_belief = Beta(1,1)"
   ]
  },
  {
   "cell_type": "code",
   "execution_count": 40,
   "metadata": {},
   "outputs": [],
   "source": [
    "using StatPlots\n",
    "# Make an animation.\n",
    "animation = @animate for (i, N) in enumerate(Ns)\n",
    "\n",
    "    # Count the number of heads and tails.\n",
    "    heads = sum(data[1:i-1])\n",
    "    tails = N - heads\n",
    "    \n",
    "    # Update our prior belief in closed form (this is possible because we use a conjugate prior).\n",
    "    updated_belief = Beta(prior_belief.α + heads, prior_belief.β + tails)\n",
    "\n",
    "    # Plotting\n",
    "    plot(updated_belief, \n",
    "        size = (500, 250), \n",
    "        title = \"Updated belief after $N observations\",\n",
    "        xlabel = \"probability of heads\", \n",
    "        ylabel = \"\", \n",
    "        legend = nothing,\n",
    "        xlim = (0,1),\n",
    "        fill=0, α=0.3, w=3)\n",
    "    vline!([p_true])\n",
    "end;\n"
   ]
  },
  {
   "cell_type": "code",
   "execution_count": 41,
   "metadata": {},
   "outputs": [
    {
     "name": "stderr",
     "output_type": "stream",
     "text": [
      "┌ Info: Saved animation to \n",
      "│   fn = /Users/andreatitton/read-this/collateral-code/turing_prob/tmp.gif\n",
      "└ @ Plots /Users/andreatitton/.julia/packages/Plots/Ufx0i/src/animation.jl:90\n"
     ]
    },
    {
     "data": {
      "text/html": [
       "<img src=\"tmp.gif?0.019438172791289565>\" />"
      ],
      "text/plain": [
       "Plots.AnimatedGif(\"/Users/andreatitton/read-this/collateral-code/turing_prob/tmp.gif\")"
      ]
     },
     "execution_count": 41,
     "metadata": {},
     "output_type": "execute_result"
    }
   ],
   "source": [
    "gif(animation)"
   ]
  },
  {
   "cell_type": "markdown",
   "metadata": {},
   "source": [
    "### Same experiment using Turing"
   ]
  },
  {
   "cell_type": "code",
   "execution_count": 43,
   "metadata": {},
   "outputs": [],
   "source": [
    "using Turing, MCMCChain"
   ]
  },
  {
   "cell_type": "code",
   "execution_count": 44,
   "metadata": {},
   "outputs": [
    {
     "data": {
      "text/plain": [
       "coinflip (generic function with 2 methods)"
      ]
     },
     "execution_count": 44,
     "metadata": {},
     "output_type": "execute_result"
    }
   ],
   "source": [
    "@model coinflip(y) = begin\n",
    "    \n",
    "    p ~ Beta(1,1)\n",
    "    N = length(y)\n",
    "    \n",
    "    for n in 1:N\n",
    "        y[n] ~ Bernoulli(p)\n",
    "    end\n",
    "end"
   ]
  },
  {
   "cell_type": "code",
   "execution_count": 45,
   "metadata": {},
   "outputs": [
    {
     "name": "stderr",
     "output_type": "stream",
     "text": [
      "┌ Info:  Assume - `p` is a parameter\n",
      "└ @ Turing /Users/andreatitton/.julia/packages/Turing/u2n4Y/src/core/compiler.jl:135\n",
      "┌ Info:  Observe - `y` is an observation\n",
      "└ @ Turing /Users/andreatitton/.julia/packages/Turing/u2n4Y/src/core/compiler.jl:153\n",
      "\u001b[32m[HMC] Sampling...  0%  ETA: 2:38:26\u001b[39m\n",
      "\u001b[34m  ϵ:         0.05\u001b[39m\n",
      "\u001b[34m  α:         1.0\u001b[39m\n",
      "\u001b[32m[HMC] Sampling...  4%  ETA: 0:04:18\u001b[39m\n",
      "\u001b[34m  ϵ:         0.05\u001b[39m\n",
      "\u001b[34m  α:         1.0\u001b[39m\n",
      "\u001b[32m[HMC] Sampling...  7%  ETA: 0:02:44\u001b[39m\n",
      "\u001b[34m  ϵ:         0.05\u001b[39m\n",
      "\u001b[34m  α:         1.0\u001b[39m\n",
      "\u001b[32m[HMC] Sampling... 10%  ETA: 0:02:03\u001b[39m\n",
      "\u001b[34m  ϵ:         0.05\u001b[39m\n",
      "\u001b[34m  α:         0.9871965324192206\u001b[39m\n",
      "\u001b[32m[HMC] Sampling... 13%  ETA: 0:01:37\u001b[39m\n",
      "\u001b[34m  ϵ:         0.05\u001b[39m\n",
      "\u001b[34m  α:         1.0\u001b[39m\n",
      "\u001b[32m[HMC] Sampling... 16%  ETA: 0:01:20\u001b[39m\n",
      "\u001b[34m  ϵ:         0.05\u001b[39m\n",
      "\u001b[34m  α:         1.0\u001b[39m\n",
      "\u001b[32m[HMC] Sampling... 19%  ETA: 0:01:09\u001b[39m\n",
      "\u001b[34m  ϵ:         0.05\u001b[39m\n",
      "\u001b[34m  α:         0.9603753684791404\u001b[39m\n",
      "\u001b[32m[HMC] Sampling... 22%  ETA: 0:01:02\u001b[39m\n",
      "\u001b[34m  ϵ:         0.05\u001b[39m\n",
      "\u001b[34m  α:         0.9828222174485052\u001b[39m\n",
      "\u001b[32m[HMC] Sampling... 25%  ETA: 0:00:56\u001b[39m\n",
      "\u001b[34m  ϵ:         0.05\u001b[39m\n",
      "\u001b[34m  α:         1.0\u001b[39m\n",
      "\u001b[32m[HMC] Sampling... 28%  ETA: 0:00:50\u001b[39m\n",
      "\u001b[34m  ϵ:         0.05\u001b[39m\n",
      "\u001b[34m  α:         0.9895251414610586\u001b[39m\n",
      "\u001b[32m[HMC] Sampling... 31%  ETA: 0:00:45\u001b[39m\n",
      "\u001b[34m  ϵ:         0.05\u001b[39m\n",
      "\u001b[34m  α:         0.9802192640136714\u001b[39m\n",
      "\u001b[32m[HMC] Sampling... 34%  ETA: 0:00:41\u001b[39m\n",
      "\u001b[34m  ϵ:         0.05\u001b[39m\n",
      "\u001b[34m  α:         1.0\u001b[39m\n",
      "\u001b[32m[HMC] Sampling... 37%  ETA: 0:00:38\u001b[39m\n",
      "\u001b[34m  ϵ:         0.05\u001b[39m\n",
      "\u001b[34m  α:         0.9482185742387736\u001b[39m\n",
      "\u001b[32m[HMC] Sampling... 40%  ETA: 0:00:35\u001b[39m\n",
      "\u001b[34m  ϵ:         0.05\u001b[39m\n",
      "\u001b[34m  α:         0.9771368663390481\u001b[39m\n",
      "\u001b[32m[HMC] Sampling... 43%  ETA: 0:00:33\u001b[39m\n",
      "\u001b[34m  ϵ:         0.05\u001b[39m\n",
      "\u001b[34m  α:         1.0\u001b[39m\n",
      "\u001b[32m[HMC] Sampling... 46%  ETA: 0:00:31\u001b[39m\n",
      "\u001b[34m  ϵ:         0.05\u001b[39m\n",
      "\u001b[34m  α:         1.0\u001b[39m\n",
      "\u001b[32m[HMC] Sampling... 48%  ETA: 0:00:29\u001b[39m\n",
      "\u001b[34m  ϵ:         0.05\u001b[39m\n",
      "\u001b[34m  α:         1.0\u001b[39m\n",
      "\u001b[32m[HMC] Sampling... 50%  ETA: 0:00:27\u001b[39m\n",
      "\u001b[34m  ϵ:         0.05\u001b[39m\n",
      "\u001b[34m  α:         1.0\u001b[39m\n",
      "\u001b[32m[HMC] Sampling... 53%  ETA: 0:00:26\u001b[39m\n",
      "\u001b[34m  ϵ:         0.05\u001b[39m\n",
      "\u001b[34m  α:         0.931046876561962\u001b[39m\n",
      "\u001b[32m[HMC] Sampling... 56%  ETA: 0:00:24\u001b[39m\n",
      "\u001b[34m  ϵ:         0.05\u001b[39m\n",
      "\u001b[34m  α:         0.972525589567052\u001b[39m\n",
      "\u001b[32m[HMC] Sampling... 58%  ETA: 0:00:22\u001b[39m\n",
      "\u001b[34m  ϵ:         0.05\u001b[39m\n",
      "\u001b[34m  α:         1.0\u001b[39m\n",
      "\u001b[32m[HMC] Sampling... 61%  ETA: 0:00:20\u001b[39m\n",
      "\u001b[34m  ϵ:         0.05\u001b[39m\n",
      "\u001b[34m  α:         0.983834744110179\u001b[39m\n",
      "\u001b[32m[HMC] Sampling... 63%  ETA: 0:00:19\u001b[39m\n",
      "\u001b[34m  ϵ:         0.05\u001b[39m\n",
      "\u001b[34m  α:         1.0\u001b[39m\n",
      "\u001b[32m[HMC] Sampling... 66%  ETA: 0:00:18\u001b[39m\n",
      "\u001b[34m  ϵ:         0.05\u001b[39m\n",
      "\u001b[34m  α:         1.0\u001b[39m\n",
      "\u001b[32m[HMC] Sampling... 68%  ETA: 0:00:17\u001b[39m\n",
      "\u001b[34m  ϵ:         0.05\u001b[39m\n",
      "\u001b[34m  α:         1.0\u001b[39m\n",
      "\u001b[32m[HMC] Sampling... 69%  ETA: 0:00:16\u001b[39m\n",
      "\u001b[34m  ϵ:         0.05\u001b[39m\n",
      "\u001b[34m  α:         1.0\u001b[39m\n",
      "\u001b[32m[HMC] Sampling... 71%  ETA: 0:00:15\u001b[39m\n",
      "\u001b[34m  ϵ:         0.05\u001b[39m\n",
      "\u001b[34m  α:         0.9969437552668892\u001b[39m\n",
      "\u001b[32m[HMC] Sampling... 73%  ETA: 0:00:14\u001b[39m\n",
      "\u001b[34m  ϵ:         0.05\u001b[39m\n",
      "\u001b[34m  α:         1.0\u001b[39m\n",
      "\u001b[32m[HMC] Sampling... 74%  ETA: 0:00:14\u001b[39m\n",
      "\u001b[34m  ϵ:         0.05\u001b[39m\n",
      "\u001b[34m  α:         0.923021644257416\u001b[39m\n",
      "\u001b[32m[HMC] Sampling... 75%  ETA: 0:00:13\u001b[39m\n",
      "\u001b[34m  ϵ:         0.05\u001b[39m\n",
      "\u001b[34m  α:         0.9834512031469143\u001b[39m\n",
      "\u001b[32m[HMC] Sampling... 79%  ETA: 0:00:11\u001b[39m\n",
      "\u001b[34m  ϵ:         0.05\u001b[39m\n",
      "\u001b[34m  α:         1.0\u001b[39m\n",
      "\u001b[32m[HMC] Sampling... 82%  ETA: 0:00:09\u001b[39m\n",
      "\u001b[34m  ϵ:         0.05\u001b[39m\n",
      "\u001b[34m  α:         0.9625784875618871\u001b[39m\n",
      "\u001b[32m[HMC] Sampling... 84%  ETA: 0:00:08\u001b[39m\n",
      "\u001b[34m  ϵ:         0.05\u001b[39m\n",
      "\u001b[34m  α:         0.9956455298677456\u001b[39m\n",
      "\u001b[32m[HMC] Sampling... 87%  ETA: 0:00:07\u001b[39m\n",
      "\u001b[34m  ϵ:         0.05\u001b[39m\n",
      "\u001b[34m  α:         1.0\u001b[39m\n",
      "\u001b[32m[HMC] Sampling... 90%  ETA: 0:00:05\u001b[39m\n",
      "\u001b[34m  ϵ:         0.05\u001b[39m\n",
      "\u001b[34m  α:         0.9118339834640872\u001b[39m\n",
      "\u001b[32m[HMC] Sampling... 93%  ETA: 0:00:03\u001b[39m\n",
      "\u001b[34m  ϵ:         0.05\u001b[39m\n",
      "\u001b[34m  α:         1.0\u001b[39m\n",
      "\u001b[32m[HMC] Sampling... 97%  ETA: 0:00:02\u001b[39m\n",
      "\u001b[34m  ϵ:         0.05\u001b[39m\n",
      "\u001b[34m  α:         0.9971908217271278\u001b[39m\n",
      "\u001b[K\u001b[A pre_cond:  [1.0]\u001b[39m"
     ]
    },
    {
     "name": "stdout",
     "output_type": "stream",
     "text": [
      "[HMC] Finished with\n",
      "  Running time        = 47.939941577999974;\n"
     ]
    },
    {
     "name": "stderr",
     "output_type": "stream",
     "text": [
      "\r",
      "\u001b[K\u001b[A\r",
      "\u001b[K\u001b[A\r",
      "\u001b[32m[HMC] Sampling...100%  ETA: 0:00:00\u001b[39m\n",
      "\u001b[34m  ϵ:         0.05\u001b[39m\n",
      "\u001b[34m  α:         0.9020900835740924\u001b[39m\n",
      "\u001b[34m  pre_cond:  [1.0]\u001b[39m\r",
      "\u001b[K\u001b[A\r",
      "\u001b[K\u001b[A\r",
      "\u001b[K\u001b[A\r",
      "\u001b[32m[HMC] Sampling...100% Time: 0:00:48\u001b[39m\n"
     ]
    },
    {
     "name": "stdout",
     "output_type": "stream",
     "text": [
      "  Accept rate         = 0.986;\n",
      "  #lf / sample        = 9.99;\n",
      "  #evals / sample     = 11.989;\n",
      "  pre-cond. diag mat  = [1.0].\n"
     ]
    },
    {
     "data": {
      "text/plain": [
       "Turing.Chain{AbstractRange{Int64}}(0.0, Turing.Sample[Sample(0.001, Dict{Symbol,Any}(:p=>0.87412,:lf_num=>0,:elapsed=>0.604793,:lp=>-337.127,:lf_eps=>0.05)), Sample(0.001, Dict{Symbol,Any}(:p=>0.206711,:lf_num=>10,:elapsed=>9.09771,:lp=>-270.319,:lf_eps=>0.05)), Sample(0.001, Dict{Symbol,Any}(:p=>0.660412,:lf_num=>10,:elapsed=>0.0384178,:lp=>-227.062,:lf_eps=>0.05)), Sample(0.001, Dict{Symbol,Any}(:p=>0.433226,:lf_num=>10,:elapsed=>0.0363407,:lp=>-211.51,:lf_eps=>0.05)), Sample(0.001, Dict{Symbol,Any}(:p=>0.472505,:lf_num=>10,:elapsed=>0.0300204,:lp=>-209.568,:lf_eps=>0.05)), Sample(0.001, Dict{Symbol,Any}(:p=>0.514862,:lf_num=>10,:elapsed=>0.0462474,:lp=>-209.583,:lf_eps=>0.05)), Sample(0.001, Dict{Symbol,Any}(:p=>0.482553,:lf_num=>10,:elapsed=>0.0302986,:lp=>-209.375,:lf_eps=>0.05)), Sample(0.001, Dict{Symbol,Any}(:p=>0.520921,:lf_num=>10,:elapsed=>0.0376585,:lp=>-209.762,:lf_eps=>0.05)), Sample(0.001, Dict{Symbol,Any}(:p=>0.455829,:lf_num=>10,:elapsed=>0.0567919,:lp=>-210.159,:lf_eps=>0.05)), Sample(0.001, Dict{Symbol,Any}(:p=>0.536282,:lf_num=>10,:elapsed=>0.0486567,:lp=>-210.418,:lf_eps=>0.05))  …  Sample(0.001, Dict{Symbol,Any}(:p=>0.508683,:lf_num=>10,:elapsed=>0.0299405,:lp=>-209.445,:lf_eps=>0.05)), Sample(0.001, Dict{Symbol,Any}(:p=>0.479157,:lf_num=>10,:elapsed=>0.0342692,:lp=>-209.426,:lf_eps=>0.05)), Sample(0.001, Dict{Symbol,Any}(:p=>0.484086,:lf_num=>10,:elapsed=>0.026879,:lp=>-209.356,:lf_eps=>0.05)), Sample(0.001, Dict{Symbol,Any}(:p=>0.504388,:lf_num=>10,:elapsed=>0.0351801,:lp=>-209.377,:lf_eps=>0.05)), Sample(0.001, Dict{Symbol,Any}(:p=>0.491025,:lf_num=>10,:elapsed=>0.0305579,:lp=>-209.307,:lf_eps=>0.05)), Sample(0.001, Dict{Symbol,Any}(:p=>0.471533,:lf_num=>10,:elapsed=>0.0289285,:lp=>-209.593,:lf_eps=>0.05)), Sample(0.001, Dict{Symbol,Any}(:p=>0.472287,:lf_num=>10,:elapsed=>0.0289322,:lp=>-209.573,:lf_eps=>0.05)), Sample(0.001, Dict{Symbol,Any}(:p=>0.568465,:lf_num=>10,:elapsed=>0.0284526,:lp=>-212.74,:lf_eps=>0.05)), Sample(0.001, Dict{Symbol,Any}(:p=>0.474837,:lf_num=>10,:elapsed=>0.0309652,:lp=>-209.512,:lf_eps=>0.05)), Sample(0.001, Dict{Symbol,Any}(:p=>0.556227,:lf_num=>10,:elapsed=>0.029699,:lp=>-211.704,:lf_eps=>0.05))], [0.87412 0.0 … -337.127 0.05; 0.206711 10.0 … -270.319 0.05; … ; 0.474837 10.0 … -209.512 0.05; 0.556227 10.0 … -211.704 0.05], 1:1:1000, [\"p\", \"lf_num\", \"elapsed\", \"lp\", \"lf_eps\"], [1], Dict{Symbol,Any}())"
      ]
     },
     "execution_count": 45,
     "metadata": {},
     "output_type": "execute_result"
    }
   ],
   "source": [
    "iterations = 1000\n",
    "ϵ = 0.05\n",
    "τ = 10\n",
    "\n",
    "chain = sample(coinflip(data), HMC(iterations,ϵ , τ))"
   ]
  },
  {
   "cell_type": "code",
   "execution_count": null,
   "metadata": {},
   "outputs": [],
   "source": []
  }
 ],
 "metadata": {
  "kernelspec": {
   "display_name": "Julia 1.0.0",
   "language": "julia",
   "name": "julia-1.0"
  },
  "language_info": {
   "file_extension": ".jl",
   "mimetype": "application/julia",
   "name": "julia",
   "version": "1.0.0"
  }
 },
 "nbformat": 4,
 "nbformat_minor": 2
}
